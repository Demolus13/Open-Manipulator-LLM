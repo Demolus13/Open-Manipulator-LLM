{
 "cells": [
  {
   "cell_type": "markdown",
   "metadata": {},
   "source": [
    "### Import Libraries, Models, and Environment Variables"
   ]
  },
  {
   "cell_type": "code",
   "execution_count": 1,
   "metadata": {},
   "outputs": [],
   "source": [
    "# Import Libraries\n",
    "import os\n",
    "import pandas as pd\n",
    "from dotenv import load_dotenv\n",
    "\n",
    "# Import Langchain Libraries\n",
    "from langchain_groq.chat_models import ChatGroq\n",
    "\n",
    "# Load environment variables from .env file\n",
    "load_dotenv()\n",
    "Groq_Token = os.getenv(\"GROQ_API_KEY\")"
   ]
  },
  {
   "cell_type": "markdown",
   "metadata": {},
   "source": [
    "### Create the Dataset"
   ]
  },
  {
   "cell_type": "code",
   "execution_count": 12,
   "metadata": {},
   "outputs": [],
   "source": [
    "# Define the data\n",
    "dataset = pd.read_csv(\"examples.csv\")\n",
    "dataset[\"Color\"] = dataset[\"Action\"].apply(lambda action: action.split(\": \")[1] if action != \"UNKNOWN\" else \"UNKNOWN\")"
   ]
  },
  {
   "cell_type": "markdown",
   "metadata": {},
   "source": [
    "### Train the Model"
   ]
  },
  {
   "cell_type": "code",
   "execution_count": 13,
   "metadata": {},
   "outputs": [],
   "source": [
    "model_name = \"llama3-8b-8192\"\n",
    "chat_model = ChatGroq(model=model_name, api_key=Groq_Token, temperature=0)"
   ]
  },
  {
   "cell_type": "code",
   "execution_count": 14,
   "metadata": {},
   "outputs": [],
   "source": [
    "def get_examples(dataset, color_name, num_examples=3):\n",
    "    \"\"\"\n",
    "    Generate a few-shot example string for a specific color from a DataFrame.\n",
    "    \"\"\"\n",
    "    color_data = dataset[dataset[\"Color\"] == color_name]\n",
    "\n",
    "    # Limit the number of examples to num_examples\n",
    "    examples = []\n",
    "    for index, line in color_data.head(num_examples).iterrows():\n",
    "        example = f\"\"\"\n",
    "        {index + 1}. User Prompt: {line['UserPrompt']}\n",
    "        Available Colors: {line['AvailableColors']}\n",
    "        Action: {line['Action']}\n",
    "        \"\"\"\n",
    "        examples.append(example.strip())\n",
    "\n",
    "    return \"\\n\\n\".join(examples)\n",
    "\n",
    "def construct_prompt(dataset, user_prompt, available_colors):\n",
    "    \"\"\"\n",
    "    Construct the prompt for color picking using the few-shot examples.\n",
    "    \"\"\"\n",
    "    colors = dataset['Color'].unique()\n",
    "    examples = \"\"\n",
    "\n",
    "    for color in colors:\n",
    "        examples += get_examples(dataset, color) + \"\\n\\n\"\n",
    "\n",
    "    # Check if the requested color is available\n",
    "    available_colors_set = set(available_colors)\n",
    "    color_actions = [f\"PICK UP COLOR: {color}\" for color in available_colors_set]\n",
    "    color_actions.append(\"UNKNOWN\")\n",
    "\n",
    "    prompt = f\"\"\"\n",
    "    You are an expert in identifying colors based on user prompts.\n",
    "    Based on the provided user prompts and few-shot examples, predict the action to pick up which color.\n",
    "\n",
    "    Few-Shot Examples:\n",
    "    {examples.strip()}\n",
    "\n",
    "    User Prompt: {user_prompt}\n",
    "    Available Colors: {', '.join(available_colors)}\n",
    "\n",
    "    Predict the action as one of the following: {', '.join(color_actions)}.\n",
    "    **Remember to output only the label in the specified format.**\n",
    "    \"\"\"\n",
    "    return prompt.strip()"
   ]
  },
  {
   "cell_type": "code",
   "execution_count": 15,
   "metadata": {},
   "outputs": [
    {
     "name": "stdout",
     "output_type": "stream",
     "text": [
      "Response:\n",
      "PICK UP COLOR: yellow\n"
     ]
    }
   ],
   "source": [
    "user_prompt = \"The user wants to pick up the color that is closest to the color of the sky.\"\n",
    "available_colors = [\"black\", \"green\", \"red\", \"yellow\"]\n",
    "prompt = construct_prompt(dataset, user_prompt, available_colors)\n",
    "\n",
    "try:\n",
    "    response = chat_model.invoke(prompt)\n",
    "    print(f\"Response:\\n{response.content}\")\n",
    "except Exception as e:\n",
    "    print(f\"Error: {e}\")"
   ]
  }
 ],
 "metadata": {
  "kernelspec": {
   "display_name": "Python 3",
   "language": "python",
   "name": "python3"
  },
  "language_info": {
   "codemirror_mode": {
    "name": "ipython",
    "version": 3
   },
   "file_extension": ".py",
   "mimetype": "text/x-python",
   "name": "python",
   "nbconvert_exporter": "python",
   "pygments_lexer": "ipython3",
   "version": "3.8.10"
  }
 },
 "nbformat": 4,
 "nbformat_minor": 2
}
